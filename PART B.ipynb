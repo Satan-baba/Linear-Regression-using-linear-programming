{
 "cells": [
  {
   "cell_type": "code",
   "execution_count": null,
   "metadata": {},
   "outputs": [],
   "source": [
    "from myMatrixLpSolver import lp_optimize\n",
    "from gurobipy import *\n",
    "import numpy as np"
   ]
  },
  {
   "cell_type": "code",
   "execution_count": 2,
   "metadata": {},
   "outputs": [],
   "source": [
    "f = open('dataLR.txt', 'r')\n",
    "N=10000\n",
    "C=10\n",
    "x = [[0 for j in range(C)] for i in range(N)] \n",
    "y = [0 for i in range(N)] \n",
    "# Loop over lines and extract variables of interest\n",
    "i=-1\n",
    "for line in f:\n",
    "    i=i+1\n",
    "    line = line.strip()\n",
    "    columns = line.split(',')\n",
    "    y[i]=float(columns[0])\n",
    "    for j in range(0,10):\n",
    "        x[i][j] = float(columns[j+1])\n",
    "\n",
    "f.close()"
   ]
  },
  {
   "cell_type": "code",
   "execution_count": 4,
   "metadata": {},
   "outputs": [],
   "source": [
    "def lis_1(lis_num):    \n",
    "    x_lis_1 = [-1*i for i in x[lis_num]]\n",
    "    x_lis_1.insert(0,1)\n",
    "    x_lis_1.append(-1)\n",
    "    return x_lis_1\n",
    "\n",
    "def lis_2(lis_num):    \n",
    "    x_lis_2 = [i for i in x[lis_num]]\n",
    "    x_lis_2.insert(0,1)\n",
    "    x_lis_2.append(1)\n",
    "    return x_lis_2\n",
    "constraints_min = [lis_1(lis) for lis in range(len(x))]\n",
    "constraints_max = [lis_2(lis) for lis in range(len(x))]\n",
    "y10000 = [-1*i for i in y]\n",
    "A = []\n",
    "for i in constraints_min:\n",
    "    A.append(i)\n",
    "for i in constraints_max:\n",
    "    A.append(i)\n"
   ]
  },
  {
   "cell_type": "code",
   "execution_count": 16,
   "metadata": {},
   "outputs": [],
   "source": [
    "v = np.identity(20000)\n",
    "new_A = np.concatenate((A,v), axis = 1)"
   ]
  },
  {
   "cell_type": "code",
   "execution_count": null,
   "metadata": {},
   "outputs": [],
   "source": []
  },
  {
   "cell_type": "code",
   "execution_count": null,
   "metadata": {},
   "outputs": [],
   "source": []
  }
 ],
 "metadata": {
  "kernelspec": {
   "display_name": "Python 3",
   "language": "python",
   "name": "python3"
  },
  "language_info": {
   "codemirror_mode": {
    "name": "ipython",
    "version": 3
   },
   "file_extension": ".py",
   "mimetype": "text/x-python",
   "name": "python",
   "nbconvert_exporter": "python",
   "pygments_lexer": "ipython3",
   "version": "3.7.3"
  }
 },
 "nbformat": 4,
 "nbformat_minor": 2
}
