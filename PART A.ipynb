{
 "cells": [
  {
   "cell_type": "code",
   "execution_count": 388,
   "metadata": {},
   "outputs": [],
   "source": [
    "from myMatrixLpSolver import lp_optimize\n",
    "from gurobipy import *\n",
    "import numpy as np"
   ]
  },
  {
   "cell_type": "code",
   "execution_count": 389,
   "metadata": {},
   "outputs": [],
   "source": [
    "f = open('dataLR.txt', 'r')\n",
    "N=10000\n",
    "C=10\n",
    "x = [[0 for j in range(C)] for i in range(N)] \n",
    "y = [0 for i in range(N)] \n",
    "# Loop over lines and extract variables of interest\n",
    "i=-1\n",
    "for line in f:\n",
    "    i=i+1\n",
    "    line = line.strip()\n",
    "    columns = line.split(',')\n",
    "    y[i]=float(columns[0])\n",
    "    for j in range(0,10):\n",
    "        x[i][j] = float(columns[j+1])\n",
    "\n",
    "f.close()"
   ]
  },
  {
   "cell_type": "code",
   "execution_count": 390,
   "metadata": {},
   "outputs": [],
   "source": [
    "def lis_1(lis_num):    \n",
    "    x_lis_1 = [-1*i for i in x[lis_num]]\n",
    "    x_lis_1.insert(0,1)\n",
    "    x_lis_1.append(-1)\n",
    "    return x_lis_1\n",
    "\n",
    "def lis_2(lis_num):    \n",
    "    x_lis_2 = [i for i in x[lis_num]]\n",
    "    x_lis_2.insert(0,1)\n",
    "    x_lis_2.append(1)\n",
    "    return x_lis_2"
   ]
  },
  {
   "cell_type": "code",
   "execution_count": null,
   "metadata": {},
   "outputs": [],
   "source": []
  },
  {
   "cell_type": "code",
   "execution_count": null,
   "metadata": {},
   "outputs": [],
   "source": []
  },
  {
   "cell_type": "code",
   "execution_count": 383,
   "metadata": {},
   "outputs": [],
   "source": [
    "constraints_min = [lis_1(lis) for lis in range(len(x))]\n",
    "constraints_max = [lis_2(lis) for lis in range(len(x))]\n",
    "y10000 = [-1*i for i in y]\n",
    "A = []\n",
    "for i in constraints_min:\n",
    "    A.append(i)\n",
    "for i in constraints_max:\n",
    "    A.append(i)\n"
   ]
  },
  {
   "cell_type": "code",
   "execution_count": 384,
   "metadata": {},
   "outputs": [],
   "source": [
    "c = [1,0,0,0,0,0,0,0,0,0,0,0]\n",
    "obj_sense = GRB.MINIMIZE\n",
    "sense = [GRB.GREATER_EQUAL]*20000\n",
    "rhs = y10000 + y\n",
    "lb = [-GRB.INFINITY]*12\n",
    "ub = [GRB.INFINITY]*12\n",
    "vtype = [GRB.CONTINUOUS]*12\n",
    "sol = [0]*12"
   ]
  },
  {
   "cell_type": "code",
   "execution_count": 385,
   "metadata": {},
   "outputs": [
    {
     "name": "stdout",
     "output_type": "stream",
     "text": [
      "Optimize a model with 20000 rows, 12 columns and 237130 nonzeros\n",
      "Coefficient statistics:\n",
      "  Matrix range     [1e+00, 1e+02]\n",
      "  Objective range  [1e+00, 1e+00]\n",
      "  Bounds range     [0e+00, 0e+00]\n",
      "  RHS range        [6e+00, 2e+04]\n",
      "Presolve time: 0.08s\n",
      "Presolved: 12 rows, 20000 columns, 237130 nonzeros\n",
      "\n",
      "Iteration    Objective       Primal Inf.    Dual Inf.      Time\n",
      "       0   -0.0000000e+00   4.000000e+00   6.713625e+09      0s\n",
      "     247    5.0000000e+01   0.000000e+00   0.000000e+00      0s\n",
      "\n",
      "Solved in 247 iterations and 0.12 seconds\n",
      "Optimal objective  5.000000000e+01\n"
     ]
    }
   ],
   "source": [
    "success = lp_optimize(20000, 12, c, obj_sense, A, sense, rhs, lb, ub, vtype, sol)\n",
    "\n",
    "\n"
   ]
  },
  {
   "cell_type": "code",
   "execution_count": 379,
   "metadata": {},
   "outputs": [
    {
     "name": "stdout",
     "output_type": "stream",
     "text": [
      "[50.00000000000029, -9.000000000001034, -3.802173177185591e-13, -11.99999999999976, 27.99999999999966, -24.999999999999993, 6.000000000000937, 21.000000000000075, 63.99999999999994, 36.00000000000016, 100.00000000000014, 77.0000000000603]\n"
     ]
    }
   ],
   "source": [
    "print(sol)"
   ]
  },
  {
   "cell_type": "code",
   "execution_count": 368,
   "metadata": {},
   "outputs": [],
   "source": []
  },
  {
   "cell_type": "code",
   "execution_count": 386,
   "metadata": {},
   "outputs": [],
   "source": [
    "# len(A)\n"
   ]
  },
  {
   "cell_type": "code",
   "execution_count": 387,
   "metadata": {},
   "outputs": [],
   "source": [
    "# c = [1,0,0,0,0,0,0,0,0,0,0,0]\n",
    "# obj_sense = GRB.MINIMIZE\n",
    "# sense = [GRB.GREATER_EQUAL]*20002\n",
    "# success = lp_optimize(20002, 12, c, obj_sense, A, sense, rhs, lb, ub, vtype, sol)\n"
   ]
  },
  {
   "cell_type": "code",
   "execution_count": null,
   "metadata": {},
   "outputs": [],
   "source": []
  },
  {
   "cell_type": "code",
   "execution_count": null,
   "metadata": {},
   "outputs": [],
   "source": []
  },
  {
   "cell_type": "code",
   "execution_count": null,
   "metadata": {},
   "outputs": [],
   "source": []
  },
  {
   "cell_type": "code",
   "execution_count": null,
   "metadata": {},
   "outputs": [],
   "source": []
  }
 ],
 "metadata": {
  "kernelspec": {
   "display_name": "Python 3",
   "language": "python",
   "name": "python3"
  },
  "language_info": {
   "codemirror_mode": {
    "name": "ipython",
    "version": 3
   },
   "file_extension": ".py",
   "mimetype": "text/x-python",
   "name": "python",
   "nbconvert_exporter": "python",
   "pygments_lexer": "ipython3",
   "version": "3.7.3"
  }
 },
 "nbformat": 4,
 "nbformat_minor": 2
}
